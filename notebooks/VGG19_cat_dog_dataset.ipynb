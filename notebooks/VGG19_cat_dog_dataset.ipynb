{
  "nbformat": 4,
  "nbformat_minor": 0,
  "metadata": {
    "colab": {
      "name": "VGG19_cat_dog_dataset.ipynb",
      "provenance": [],
      "collapsed_sections": [],
      "authorship_tag": "ABX9TyPIFOAONCLO/E6wY5uBfeuD",
      "include_colab_link": true
    },
    "kernelspec": {
      "name": "python3",
      "display_name": "Python 3"
    },
    "accelerator": "GPU"
  },
  "cells": [
    {
      "cell_type": "markdown",
      "metadata": {
        "id": "view-in-github",
        "colab_type": "text"
      },
      "source": [
        "<a href=\"https://colab.research.google.com/github/ZeynelAbidin91/DL-in-Computer-vision/blob/master/VGG19_cat_dog_dataset.ipynb\" target=\"_parent\"><img src=\"https://colab.research.google.com/assets/colab-badge.svg\" alt=\"Open In Colab\"/></a>"
      ]
    },
    {
      "cell_type": "code",
      "metadata": {
        "id": "76DdOcYnjmBf"
      },
      "source": [
        "!pip install -q keras"
      ],
      "execution_count": null,
      "outputs": []
    },
    {
      "cell_type": "code",
      "metadata": {
        "id": "hlTpaygTj6UH",
        "outputId": "0c1fee00-6b3b-4810-dd6c-3a7f8add2710",
        "colab": {
          "base_uri": "https://localhost:8080/",
          "height": 68
        }
      },
      "source": [
        "from keras.models import Sequential\n",
        "from keras.layers import Dense, Activation, Dropout, Flatten, MaxPooling2D\n",
        "from keras.layers import BatchNormalization, MaxPooling2D\n",
        "from keras.layers.convolutional import Conv2D \n",
        "from keras.utils import np_utils #???\n",
        "from keras import backend as K\n",
        "from keras.optimizers import Adam\n",
        "\n",
        "from tensorflow.keras.applications import VGG19\n",
        "\n",
        "from distutils.version import LooseVersion as LV\n",
        "from keras import __version__\n",
        "\n",
        "from IPython.display import SVG # ????\n",
        "from keras.utils.vis_utils import model_to_dot \n",
        "\n",
        "import numpy as np\n",
        "import matplotlib.pyplot as plt\n",
        "import seaborn as sns\n",
        "sns.set()\n",
        "\n",
        "print('Using Keras version:', __version__, 'backend:', K.backend())\n",
        "assert(LV(__version__) >= LV(\"2.0.0\"))"
      ],
      "execution_count": null,
      "outputs": [
        {
          "output_type": "stream",
          "text": [
            "Using Keras version: 2.4.3 backend: tensorflow\n"
          ],
          "name": "stdout"
        },
        {
          "output_type": "stream",
          "text": [
            "/usr/local/lib/python3.6/dist-packages/statsmodels/tools/_testing.py:19: FutureWarning: pandas.util.testing is deprecated. Use the functions in the public API at pandas.testing instead.\n",
            "  import pandas.util.testing as tm\n"
          ],
          "name": "stderr"
        }
      ]
    },
    {
      "cell_type": "code",
      "metadata": {
        "id": "prBOxiFN4ytJ",
        "outputId": "b7070ee3-3f25-4b92-d48f-5893db050478",
        "colab": {
          "resources": {
            "http://localhost:8080/nbextensions/google.colab/files.js": {
              "data": "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",
              "ok": true,
              "headers": [
                [
                  "content-type",
                  "application/javascript"
                ]
              ],
              "status": 200,
              "status_text": ""
            }
          },
          "base_uri": "https://localhost:8080/",
          "height": 72
        }
      },
      "source": [
        "from google.colab import files # to load image data\n",
        "uploaded = files.upload()   "
      ],
      "execution_count": null,
      "outputs": [
        {
          "output_type": "display_data",
          "data": {
            "text/html": [
              "\n",
              "     <input type=\"file\" id=\"files-4d977527-2b00-414c-852b-8dea39c9801e\" name=\"files[]\" multiple disabled\n",
              "        style=\"border:none\" />\n",
              "     <output id=\"result-4d977527-2b00-414c-852b-8dea39c9801e\">\n",
              "      Upload widget is only available when the cell has been executed in the\n",
              "      current browser session. Please rerun this cell to enable.\n",
              "      </output>\n",
              "      <script src=\"/nbextensions/google.colab/files.js\"></script> "
            ],
            "text/plain": [
              "<IPython.core.display.HTML object>"
            ]
          },
          "metadata": {
            "tags": []
          }
        },
        {
          "output_type": "stream",
          "text": [
            "Saving Data.zip to Data.zip\n"
          ],
          "name": "stdout"
        }
      ]
    },
    {
      "cell_type": "code",
      "metadata": {
        "id": "H2YH11n15HB-"
      },
      "source": [
        "!unzip Data.zip "
      ],
      "execution_count": null,
      "outputs": []
    },
    {
      "cell_type": "code",
      "metadata": {
        "id": "ZkUCsgOtk3_i"
      },
      "source": [
        "from keras.preprocessing.image import ImageDataGenerator"
      ],
      "execution_count": null,
      "outputs": []
    },
    {
      "cell_type": "code",
      "metadata": {
        "id": "J-v94OhMWUAK"
      },
      "source": [
        "# \n",
        "train_data_gen = ImageDataGenerator(rescale=1.0/255,\n",
        "    rotation_range=40,\n",
        "    width_shift_range=0.2,\n",
        "    height_shift_range=0.2,\n",
        "    shear_range=0.2,\n",
        "    zoom_range=0.2,\n",
        "    horizontal_flip=True) \n",
        "\n",
        "scaled_data_gen = ImageDataGenerator(rescale=1.0/255)"
      ],
      "execution_count": null,
      "outputs": []
    },
    {
      "cell_type": "code",
      "metadata": {
        "id": "-FPHw-IG6dDd",
        "outputId": "6d5e8695-3e40-4828-9a6f-a184a27741c8",
        "colab": {
          "base_uri": "https://localhost:8080/",
          "height": 68
        }
      },
      "source": [
        "train_set = train_data_gen.flow_from_directory('Data/train/', \n",
        "                                                   target_size=(150, 150),\n",
        "                                                   class_mode='binary', \n",
        "                                                   batch_size=32)\n",
        "eval_set = scaled_data_gen.flow_from_directory('Data/eval/', \n",
        "                                                   target_size=(150, 150),\n",
        "                                                   class_mode='binary',\n",
        "                                                   batch_size=32)\n",
        "test_set = scaled_data_gen.flow_from_directory('Data/test/', \n",
        "                                                   target_size=(150, 150),\n",
        "                                                   class_mode='binary', \n",
        "                                                   batch_size=32)"
      ],
      "execution_count": null,
      "outputs": [
        {
          "output_type": "stream",
          "text": [
            "Found 10000 images belonging to 2 classes.\n",
            "Found 4000 images belonging to 2 classes.\n",
            "Found 1000 images belonging to 2 classes.\n"
          ],
          "name": "stdout"
        }
      ]
    },
    {
      "cell_type": "code",
      "metadata": {
        "id": "4IYyat2EcX2M",
        "outputId": "0b1c4216-340b-4e38-81aa-028d668041a2",
        "colab": {
          "base_uri": "https://localhost:8080/",
          "height": 34
        }
      },
      "source": [
        "input_shape = train_set[0][0].shape[1:4]\n",
        "input_shape"
      ],
      "execution_count": null,
      "outputs": [
        {
          "output_type": "execute_result",
          "data": {
            "text/plain": [
              "(150, 150, 3)"
            ]
          },
          "metadata": {
            "tags": []
          },
          "execution_count": 9
        }
      ]
    },
    {
      "cell_type": "markdown",
      "metadata": {
        "id": "GJNneQ7jYZ_t"
      },
      "source": [
        "**Transfer Learning with VGG19**\n",
        "\n",
        "\n",
        "\n",
        "\n",
        "\n"
      ]
    },
    {
      "cell_type": "code",
      "metadata": {
        "id": "9-qhDs8-MUhM"
      },
      "source": [
        "# number of convolutional filters to use\n",
        "nb_filters = 32\n",
        "# convolution kernel size\n",
        "kernel_size = (3, 3)\n",
        "# size of pooling area for max pooling\n",
        "pool_size = (2, 2)"
      ],
      "execution_count": null,
      "outputs": []
    },
    {
      "cell_type": "code",
      "metadata": {
        "id": "q4CNFoXIMYh6",
        "outputId": "87daa22c-ce47-43c7-9e08-3595cec8a6f2",
        "colab": {
          "base_uri": "https://localhost:8080/",
          "height": 51
        }
      },
      "source": [
        "vgg_base = VGG19(weights='imagenet', include_top=False, input_shape=input_shape)\n",
        "\n",
        "def define_model(): # CNN image classifier model as function\n",
        "\n",
        "  model = Sequential()\n",
        "\n",
        "  model.add(vgg_base)\n",
        "  model.add(Flatten())\n",
        "  model.add(Dropout(0.5))\n",
        "  model.add(Dense(units=1024, activation='relu'))\n",
        "  model.add(Dropout(0.2))\n",
        "  model.add(Dense(units=524, activation='relu'))\n",
        "  model.add(Dropout(0.1))\n",
        "  model.add(Dense(units=1, activation='sigmoid'))\n",
        "  vgg_base.trainable = False\n",
        "\n",
        "  model.compile(loss='binary_crossentropy',\n",
        "              optimizer='adam',\n",
        "              metrics=['accuracy'])\n",
        "\n",
        "  return model\n",
        "#print(model.summary())\n"
      ],
      "execution_count": null,
      "outputs": [
        {
          "output_type": "stream",
          "text": [
            "Downloading data from https://storage.googleapis.com/tensorflow/keras-applications/vgg19/vgg19_weights_tf_dim_ordering_tf_kernels_notop.h5\n",
            "80142336/80134624 [==============================] - 0s 0us/step\n"
          ],
          "name": "stdout"
        }
      ]
    },
    {
      "cell_type": "code",
      "metadata": {
        "id": "Z2Pt_JSvETtS",
        "outputId": "dad99842-c4d6-4097-f2f5-47010550d409",
        "colab": {
          "base_uri": "https://localhost:8080/",
          "height": 442
        }
      },
      "source": [
        "model = define_model() \n",
        "print(model.summary())"
      ],
      "execution_count": null,
      "outputs": [
        {
          "output_type": "stream",
          "text": [
            "Model: \"sequential\"\n",
            "_________________________________________________________________\n",
            "Layer (type)                 Output Shape              Param #   \n",
            "=================================================================\n",
            "vgg19 (Functional)           (None, 4, 4, 512)         20024384  \n",
            "_________________________________________________________________\n",
            "flatten (Flatten)            (None, 8192)              0         \n",
            "_________________________________________________________________\n",
            "dropout (Dropout)            (None, 8192)              0         \n",
            "_________________________________________________________________\n",
            "dense (Dense)                (None, 1024)              8389632   \n",
            "_________________________________________________________________\n",
            "dropout_1 (Dropout)          (None, 1024)              0         \n",
            "_________________________________________________________________\n",
            "dense_1 (Dense)              (None, 524)               537100    \n",
            "_________________________________________________________________\n",
            "dropout_2 (Dropout)          (None, 524)               0         \n",
            "_________________________________________________________________\n",
            "dense_2 (Dense)              (None, 1)                 525       \n",
            "=================================================================\n",
            "Total params: 28,951,641\n",
            "Trainable params: 8,927,257\n",
            "Non-trainable params: 20,024,384\n",
            "_________________________________________________________________\n",
            "None\n"
          ],
          "name": "stdout"
        }
      ]
    },
    {
      "cell_type": "code",
      "metadata": {
        "id": "1QfHnSEM7FpS",
        "outputId": "734946fa-5ea5-4601-8095-f117b25f8edf",
        "colab": {
          "base_uri": "https://localhost:8080/",
          "height": 442
        }
      },
      "source": [
        "%%time\n",
        "\n",
        "epochs = 10 \n",
        "\n",
        "history = model.fit_generator(train_set,\n",
        "                                  steps_per_epoch=len(train_set), \n",
        "                                  epochs=epochs, validation_data=eval_set, \n",
        "                                  validation_steps=len(eval_set))"
      ],
      "execution_count": null,
      "outputs": [
        {
          "output_type": "stream",
          "text": [
            "WARNING:tensorflow:From <timed exec>:7: Model.fit_generator (from tensorflow.python.keras.engine.training) is deprecated and will be removed in a future version.\n",
            "Instructions for updating:\n",
            "Please use Model.fit, which supports generators.\n",
            "Epoch 1/10\n",
            "313/313 [==============================] - 83s 267ms/step - loss: 0.5528 - accuracy: 0.7328 - val_loss: 0.3980 - val_accuracy: 0.8130\n",
            "Epoch 2/10\n",
            "313/313 [==============================] - 84s 268ms/step - loss: 0.4415 - accuracy: 0.7944 - val_loss: 0.3156 - val_accuracy: 0.8750\n",
            "Epoch 3/10\n",
            "313/313 [==============================] - 84s 267ms/step - loss: 0.4242 - accuracy: 0.7979 - val_loss: 0.2728 - val_accuracy: 0.8792\n",
            "Epoch 4/10\n",
            "313/313 [==============================] - 84s 268ms/step - loss: 0.4116 - accuracy: 0.8093 - val_loss: 0.2725 - val_accuracy: 0.8802\n",
            "Epoch 5/10\n",
            "313/313 [==============================] - 84s 268ms/step - loss: 0.4025 - accuracy: 0.8125 - val_loss: 0.2774 - val_accuracy: 0.8800\n",
            "Epoch 6/10\n",
            "313/313 [==============================] - 84s 269ms/step - loss: 0.4099 - accuracy: 0.8081 - val_loss: 0.2643 - val_accuracy: 0.8842\n",
            "Epoch 7/10\n",
            "313/313 [==============================] - 84s 268ms/step - loss: 0.3974 - accuracy: 0.8153 - val_loss: 0.3315 - val_accuracy: 0.8528\n",
            "Epoch 8/10\n",
            "313/313 [==============================] - 84s 268ms/step - loss: 0.3896 - accuracy: 0.8184 - val_loss: 0.2653 - val_accuracy: 0.8820\n",
            "Epoch 9/10\n",
            "313/313 [==============================] - 84s 269ms/step - loss: 0.3899 - accuracy: 0.8207 - val_loss: 0.2647 - val_accuracy: 0.8815\n",
            "Epoch 10/10\n",
            "313/313 [==============================] - 84s 268ms/step - loss: 0.3922 - accuracy: 0.8170 - val_loss: 0.2680 - val_accuracy: 0.8800\n",
            "CPU times: user 14min 33s, sys: 17.5 s, total: 14min 51s\n",
            "Wall time: 14min 8s\n"
          ],
          "name": "stdout"
        }
      ]
    },
    {
      "cell_type": "code",
      "metadata": {
        "id": "orSkmyec7UaR",
        "outputId": "d9f83cab-48a9-4398-d769-ec9db3f64758",
        "colab": {
          "base_uri": "https://localhost:8080/",
          "height": 458
        }
      },
      "source": [
        "plt.figure(figsize=(5,3))\n",
        "plt.plot(history.epoch,history.history['loss'])\n",
        "plt.title('loss')\n",
        "\n",
        "plt.figure(figsize=(5,3))\n",
        "plt.plot(history.epoch,history.history['accuracy'])\n",
        "plt.title('accuracy')"
      ],
      "execution_count": null,
      "outputs": [
        {
          "output_type": "execute_result",
          "data": {
            "text/plain": [
              "Text(0.5, 1.0, 'accuracy')"
            ]
          },
          "metadata": {
            "tags": []
          },
          "execution_count": 14
        },
        {
          "output_type": "display_data",
          "data": {
            "image/png": "[encoded data removed]",
            "text/plain": [
              "<Figure size 360x216 with 1 Axes>"
            ]
          },
          "metadata": {
            "tags": []
          }
        },
        {
          "output_type": "display_data",
          "data": {
            "image/png": "[encoded data removed]",
            "text/plain": [
              "<Figure size 360x216 with 1 Axes>"
            ]
          },
          "metadata": {
            "tags": []
          }
        }
      ]
    },
    {
      "cell_type": "code",
      "metadata": {
        "id": "Yits7NrjCJWb",
        "outputId": "99ae1e67-0266-4e64-eebd-d91d0cdc1848",
        "colab": {
          "base_uri": "https://localhost:8080/",
          "height": 170
        }
      },
      "source": [
        "# evaluate performance on train & test data\n",
        "loss, acc = model.evaluate_generator(train_set, steps=len(train_set), verbose=1)\n",
        "print('Training data  -> loss: %.3f, acc: %.3f' % (loss, acc))\n",
        "loss, acc = model.evaluate_generator(eval_set, steps=len(eval_set), verbose=1)\n",
        "print('Cross-val data -> loss: %.3f, acc: %.3f' % (loss, acc))\n",
        "loss, acc = model.evaluate_generator(test_set, steps=len(test_set), verbose=1)\n",
        "print('Testing data   -> loss: %.3f, acc: %.3f' % (loss, acc)) "
      ],
      "execution_count": null,
      "outputs": [
        {
          "output_type": "stream",
          "text": [
            "WARNING:tensorflow:From <ipython-input-16-702b54e1cba5>:2: Model.evaluate_generator (from tensorflow.python.keras.engine.training) is deprecated and will be removed in a future version.\n",
            "Instructions for updating:\n",
            "Please use Model.evaluate, which supports generators.\n",
            "313/313 [==============================] - 72s 229ms/step - loss: 0.3471 - accuracy: 0.8434\n",
            "Training data  -> loss: 0.347, acc: 0.843\n",
            "125/125 [==============================] - 12s 96ms/step - loss: 0.2680 - accuracy: 0.8800\n",
            "Cross-val data -> loss: 0.268, acc: 0.880\n",
            "32/32 [==============================] - 3s 99ms/step - loss: 0.2540 - accuracy: 0.8790\n",
            "Testing data   -> loss: 0.254, acc: 0.879\n"
          ],
          "name": "stdout"
        }
      ]
    },
    {
      "cell_type": "markdown",
      "metadata": {
        "id": "RCPsz9fpZotW"
      },
      "source": [
        "\n",
        "Model | Train | Cross-val | Test\n",
        "--- | --- | --- | ---\n",
        "Base-model | 0.84 | 0.78 | 0.80\n",
        "Augmented model | 0.73 | 0.75 | 0.76\n",
        "Transfer learning | 0.84 |0.88 | 0.87"
      ]
    },
    {
      "cell_type": "markdown",
      "metadata": {
        "id": "uciYrcjSZBl7"
      },
      "source": [
        "**Fine-Tuning with VGG19**"
      ]
    },
    {
      "cell_type": "code",
      "metadata": {
        "id": "Utw6ugfXmkBN"
      },
      "source": [
        "vgg_base = VGG19(weights='imagenet', include_top=False, input_shape=input_shape)\n",
        "\n",
        "def fine_tuning_model(): # CNN image classifier model as function\n",
        "\n",
        "  model = Sequential()\n",
        "\n",
        "  model.add(vgg_base)\n",
        "  model.add(Flatten())\n",
        "  model.add(Dropout(0.5))\n",
        "  model.add(Dense(units=1024, activation='relu'))\n",
        "  model.add(Dropout(0.2))\n",
        "  model.add(Dense(units=524, activation='relu'))\n",
        "  model.add(Dropout(0.1))\n",
        "  model.add(Dense(units=1, activation='sigmoid'))\n",
        "\n",
        "\n",
        "  for layer in vgg_base.layers[:19]:\n",
        "    layer.trainable = False\n",
        "  for layer in vgg_base.layers[19:]:\n",
        "    layer.trainable = True\n",
        "  \n",
        "\n",
        "\n",
        "  model.compile(loss='binary_crossentropy',\n",
        "              optimizer='adam',\n",
        "              metrics=['accuracy'])\n",
        "\n",
        "  return model"
      ],
      "execution_count": null,
      "outputs": []
    },
    {
      "cell_type": "code",
      "metadata": {
        "id": "XLDu5OOjntd2",
        "outputId": "4c45ee4a-d9ea-41f0-c766-85746c9d6d53",
        "colab": {
          "base_uri": "https://localhost:8080/",
          "height": 442
        }
      },
      "source": [
        "model_tuning = fine_tuning_model() \n",
        "print(model_tuning.summary())\n",
        "#print(vgg_base.summary())"
      ],
      "execution_count": null,
      "outputs": [
        {
          "output_type": "stream",
          "text": [
            "Model: \"sequential_10\"\n",
            "_________________________________________________________________\n",
            "Layer (type)                 Output Shape              Param #   \n",
            "=================================================================\n",
            "vgg19 (Functional)           (None, 4, 4, 512)         20024384  \n",
            "_________________________________________________________________\n",
            "flatten_10 (Flatten)         (None, 8192)              0         \n",
            "_________________________________________________________________\n",
            "dropout_30 (Dropout)         (None, 8192)              0         \n",
            "_________________________________________________________________\n",
            "dense_30 (Dense)             (None, 1024)              8389632   \n",
            "_________________________________________________________________\n",
            "dropout_31 (Dropout)         (None, 1024)              0         \n",
            "_________________________________________________________________\n",
            "dense_31 (Dense)             (None, 524)               537100    \n",
            "_________________________________________________________________\n",
            "dropout_32 (Dropout)         (None, 524)               0         \n",
            "_________________________________________________________________\n",
            "dense_32 (Dense)             (None, 1)                 525       \n",
            "=================================================================\n",
            "Total params: 28,951,641\n",
            "Trainable params: 13,646,873\n",
            "Non-trainable params: 15,304,768\n",
            "_________________________________________________________________\n",
            "None\n"
          ],
          "name": "stdout"
        }
      ]
    },
    {
      "cell_type": "code",
      "metadata": {
        "id": "20bek8Cs1Yvz",
        "outputId": "f682b50d-f256-43a9-8e62-f0bbef68874f",
        "colab": {
          "base_uri": "https://localhost:8080/",
          "height": 391
        }
      },
      "source": [
        "# to see unfroze layers \n",
        "for layer in vgg_base.layers:\n",
        "  print(\"{}: {}\".format(layer, layer.trainable))"
      ],
      "execution_count": null,
      "outputs": [
        {
          "output_type": "stream",
          "text": [
            "<tensorflow.python.keras.engine.input_layer.InputLayer object at 0x7f89574332b0>: False\n",
            "<tensorflow.python.keras.layers.convolutional.Conv2D object at 0x7f8957433400>: False\n",
            "<tensorflow.python.keras.layers.convolutional.Conv2D object at 0x7f8957433710>: False\n",
            "<tensorflow.python.keras.layers.pooling.MaxPooling2D object at 0x7f8957433cf8>: False\n",
            "<tensorflow.python.keras.layers.convolutional.Conv2D object at 0x7f895748aeb8>: False\n",
            "<tensorflow.python.keras.layers.convolutional.Conv2D object at 0x7f8957429e10>: False\n",
            "<tensorflow.python.keras.layers.pooling.MaxPooling2D object at 0x7f895742c780>: False\n",
            "<tensorflow.python.keras.layers.convolutional.Conv2D object at 0x7f895742c9e8>: False\n",
            "<tensorflow.python.keras.layers.convolutional.Conv2D object at 0x7f8957438860>: False\n",
            "<tensorflow.python.keras.layers.convolutional.Conv2D object at 0x7f8957438908>: False\n",
            "<tensorflow.python.keras.layers.convolutional.Conv2D object at 0x7f89573c1860>: False\n",
            "<tensorflow.python.keras.layers.pooling.MaxPooling2D object at 0x7f89573c6438>: False\n",
            "<tensorflow.python.keras.layers.convolutional.Conv2D object at 0x7f89573c6c18>: False\n",
            "<tensorflow.python.keras.layers.convolutional.Conv2D object at 0x7f89573d2a90>: False\n",
            "<tensorflow.python.keras.layers.convolutional.Conv2D object at 0x7f89573d2b38>: False\n",
            "<tensorflow.python.keras.layers.convolutional.Conv2D object at 0x7f89573db780>: False\n",
            "<tensorflow.python.keras.layers.pooling.MaxPooling2D object at 0x7f89573e1668>: False\n",
            "<tensorflow.python.keras.layers.convolutional.Conv2D object at 0x7f89573e1e48>: False\n",
            "<tensorflow.python.keras.layers.convolutional.Conv2D object at 0x7f89573eacc0>: False\n",
            "<tensorflow.python.keras.layers.convolutional.Conv2D object at 0x7f89573ea978>: True\n",
            "<tensorflow.python.keras.layers.convolutional.Conv2D object at 0x7f89573f49b0>: True\n",
            "<tensorflow.python.keras.layers.pooling.MaxPooling2D object at 0x7f89573fd898>: True\n"
          ],
          "name": "stdout"
        }
      ]
    },
    {
      "cell_type": "code",
      "metadata": {
        "id": "-x7AHTlmofOX",
        "outputId": "2d642fc0-0c42-40ca-a3df-5723fa9484e8",
        "colab": {
          "base_uri": "https://localhost:8080/",
          "height": 391
        }
      },
      "source": [
        "%%time\n",
        "\n",
        "epochs = 10 \n",
        "\n",
        "history = model_tuning.fit_generator(train_set,\n",
        "                                  steps_per_epoch=len(train_set), \n",
        "                                  epochs=epochs, validation_data=eval_set, \n",
        "                                  validation_steps=len(eval_set)) "
      ],
      "execution_count": null,
      "outputs": [
        {
          "output_type": "stream",
          "text": [
            "Epoch 1/10\n",
            "313/313 [==============================] - 82s 264ms/step - loss: 0.5973 - accuracy: 0.7196 - val_loss: 0.3922 - val_accuracy: 0.8560\n",
            "Epoch 2/10\n",
            "313/313 [==============================] - 82s 263ms/step - loss: 0.4522 - accuracy: 0.7963 - val_loss: 0.3195 - val_accuracy: 0.8545\n",
            "Epoch 3/10\n",
            "313/313 [==============================] - 83s 264ms/step - loss: 0.4096 - accuracy: 0.8181 - val_loss: 0.2907 - val_accuracy: 0.8890\n",
            "Epoch 4/10\n",
            "313/313 [==============================] - 83s 264ms/step - loss: 0.3708 - accuracy: 0.8379 - val_loss: 0.2835 - val_accuracy: 0.8823\n",
            "Epoch 5/10\n",
            "313/313 [==============================] - 83s 264ms/step - loss: 0.3315 - accuracy: 0.8640 - val_loss: 0.2932 - val_accuracy: 0.8875\n",
            "Epoch 6/10\n",
            "313/313 [==============================] - 83s 264ms/step - loss: 0.3021 - accuracy: 0.8706 - val_loss: 0.2670 - val_accuracy: 0.9053\n",
            "Epoch 7/10\n",
            "313/313 [==============================] - 83s 265ms/step - loss: 0.2752 - accuracy: 0.8833 - val_loss: 0.2437 - val_accuracy: 0.8975\n",
            "Epoch 8/10\n",
            "313/313 [==============================] - 83s 264ms/step - loss: 0.2553 - accuracy: 0.8937 - val_loss: 0.1917 - val_accuracy: 0.9220\n",
            "Epoch 9/10\n",
            "313/313 [==============================] - 82s 263ms/step - loss: 0.2430 - accuracy: 0.8997 - val_loss: 0.1927 - val_accuracy: 0.9205\n",
            "Epoch 10/10\n",
            "313/313 [==============================] - 82s 263ms/step - loss: 0.2373 - accuracy: 0.9038 - val_loss: 0.2239 - val_accuracy: 0.9082\n",
            "CPU times: user 14min 29s, sys: 23.1 s, total: 14min 52s\n",
            "Wall time: 13min 49s\n"
          ],
          "name": "stdout"
        }
      ]
    },
    {
      "cell_type": "code",
      "metadata": {
        "id": "xXFsb1jkrPl7",
        "outputId": "5c8a662c-2e2c-4388-950e-9cca1c386b83",
        "colab": {
          "base_uri": "https://localhost:8080/",
          "height": 458
        }
      },
      "source": [
        "plt.figure(figsize=(5,3))\n",
        "plt.plot(history.epoch,history.history['loss'])\n",
        "plt.title('loss') \n",
        "\n",
        "plt.figure(figsize=(5,3))\n",
        "plt.plot(history.epoch,history.history['accuracy'])\n",
        "plt.title('accuracy')"
      ],
      "execution_count": null,
      "outputs": [
        {
          "output_type": "execute_result",
          "data": {
            "text/plain": [
              "Text(0.5, 1.0, 'accuracy')"
            ]
          },
          "metadata": {
            "tags": []
          },
          "execution_count": 55
        },
        {
          "output_type": "display_data",
          "data": {
            "image/png": "[encoded data removed]",
            "text/plain": [
              "<Figure size 360x216 with 1 Axes>"
            ]
          },
          "metadata": {
            "tags": []
          }
        },
        {
          "output_type": "display_data",
          "data": {
            "image/png": "[encoded data removed]",
            "text/plain": [
              "<Figure size 360x216 with 1 Axes>"
            ]
          },
          "metadata": {
            "tags": []
          }
        }
      ]
    },
    {
      "cell_type": "code",
      "metadata": {
        "id": "tKrOWsj8rQRK",
        "outputId": "62c36d02-ac0e-43ec-a52d-5947b7756540",
        "colab": {
          "base_uri": "https://localhost:8080/",
          "height": 119
        }
      },
      "source": [
        "# evaluate performance on train & test data\n",
        "loss, acc = model_tuning.evaluate_generator(train_set, steps=len(train_set), verbose=1)\n",
        "print('Training data  -> loss: %.3f, acc: %.3f' % (loss, acc))\n",
        "loss, acc = model_tuning.evaluate_generator(eval_set, steps=len(eval_set), verbose=1)\n",
        "print('Cross-val data -> loss: %.3f, acc: %.3f' % (loss, acc))\n",
        "loss, acc = model_tuning.evaluate_generator(test_set, steps=len(test_set), verbose=1)\n",
        "print('Testing data   -> loss: %.3f, acc: %.3f' % (loss, acc)) "
      ],
      "execution_count": null,
      "outputs": [
        {
          "output_type": "stream",
          "text": [
            "313/313 [==============================] - 70s 223ms/step - loss: 0.2256 - accuracy: 0.9071\n",
            "Training data  -> loss: 0.226, acc: 0.907\n",
            "125/125 [==============================] - 12s 93ms/step - loss: 0.2239 - accuracy: 0.9082\n",
            "Cross-val data -> loss: 0.224, acc: 0.908\n",
            "32/32 [==============================] - 3s 89ms/step - loss: 0.2066 - accuracy: 0.9100\n",
            "Testing data   -> loss: 0.207, acc: 0.910\n"
          ],
          "name": "stdout"
        }
      ]
    },
    {
      "cell_type": "markdown",
      "metadata": {
        "id": "IjQ-rpQ28A1B"
      },
      "source": [
        "Model | Train | Cross-val | Test\n",
        "--- | --- | --- | ---\n",
        "Base-model | 0.84 | 0.78 | 0.80\n",
        "Augmented model | 0.73 | 0.75 | 0.76\n",
        "Transfer learning | 0.84 |0.88 | 0.87\n",
        "Fine-tuning | 0.9071 | 0.9082 | 0.91\n",
        "\n",
        "\n",
        "\n",
        "*   In the end we managed to get 0.91 accuracy on test set. We can clearly see that each model that is applied to data, gradually improved our results. It'd be more likely to reach better accuracies if we trained data with more epochs.\n",
        "*   So far, with data augmentation methods more data added to reduce overfitting.\n",
        "*   With transfer learning, by applying pre-trained model VGG19, better results obtained instead of building a new CNN model. This process is called feature extraction via transfer learning\n",
        "*   And finally, by unfreezing last couple of layers in the pre-trained model, we let the model to recognize new data which is not originally trained. So that this method allows us to obtain higher accuracy. This process is called fine-tunning via transfer learning.\n",
        "\n"
      ]
    },
    {
      "cell_type": "code",
      "metadata": {
        "id": "_KtsQfvJPq02"
      },
      "source": [
        ""
      ],
      "execution_count": null,
      "outputs": []
    }
  ]
}