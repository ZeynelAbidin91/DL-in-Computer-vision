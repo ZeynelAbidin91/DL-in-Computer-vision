{
 "cells": [
  {
   "cell_type": "code",
   "execution_count": null,
   "metadata": {
    "colab": {},
    "colab_type": "code",
    "id": "76DdOcYnjmBf"
   },
   "outputs": [],
   "source": [
    "!pip install -q keras"
   ]
  },
  {
   "cell_type": "code",
   "execution_count": 4,
   "metadata": {
    "colab": {
     "base_uri": "https://localhost:8080/",
     "height": 68
    },
    "colab_type": "code",
    "id": "hlTpaygTj6UH",
    "outputId": "cfc349c3-339e-49ea-d984-00b4cb683e10"
   },
   "outputs": [
    {
     "name": "stdout",
     "output_type": "stream",
     "text": [
      "Using Keras version: 2.3.1 backend: tensorflow\n"
     ]
    }
   ],
   "source": [
    "import tensorflow as tf\n",
    "from keras.models import Sequential\n",
    "from keras.layers import Dense, Activation, Dropout, Flatten, MaxPooling2D\n",
    "from keras.layers import BatchNormalization, MaxPooling2D\n",
    "from keras.layers.convolutional import Conv2D \n",
    "from keras.utils import np_utils #???\n",
    "from keras import backend as K\n",
    "from keras.optimizers import Adam\n",
    "\n",
    "from distutils.version import LooseVersion as LV\n",
    "from keras import __version__\n",
    "\n",
    "from IPython.display import SVG # ????\n",
    "from keras.utils.vis_utils import model_to_dot \n",
    "\n",
    "import numpy as np\n",
    "import matplotlib.pyplot as plt\n",
    "import seaborn as sns\n",
    "sns.set()\n",
    "\n",
    "print('Using Keras version:', __version__, 'backend:', K.backend())\n",
    "assert(LV(__version__) >= LV(\"2.0.0\"))\n"
   ]
  },
  {
   "cell_type": "code",
   "execution_count": 5,
   "metadata": {},
   "outputs": [
    {
     "ename": "IndexError",
     "evalue": "list index out of range",
     "output_type": "error",
     "traceback": [
      "\u001b[0;31m---------------------------------------------------------------------------\u001b[0m",
      "\u001b[0;31mIndexError\u001b[0m                                Traceback (most recent call last)",
      "\u001b[0;32m<ipython-input-5-9cd1fd6cc2d4>\u001b[0m in \u001b[0;36m<module>\u001b[0;34m\u001b[0m\n\u001b[1;32m      1\u001b[0m \u001b[0mgpu\u001b[0m \u001b[0;34m=\u001b[0m \u001b[0mtf\u001b[0m\u001b[0;34m.\u001b[0m\u001b[0mconfig\u001b[0m\u001b[0;34m.\u001b[0m\u001b[0mexperimental\u001b[0m\u001b[0;34m.\u001b[0m\u001b[0mlist_physical_devices\u001b[0m\u001b[0;34m(\u001b[0m\u001b[0;34m'GPU'\u001b[0m\u001b[0;34m)\u001b[0m\u001b[0;34m\u001b[0m\u001b[0;34m\u001b[0m\u001b[0m\n\u001b[0;32m----> 2\u001b[0;31m \u001b[0mtf\u001b[0m\u001b[0;34m.\u001b[0m\u001b[0mconfig\u001b[0m\u001b[0;34m.\u001b[0m\u001b[0mexperimental\u001b[0m\u001b[0;34m.\u001b[0m\u001b[0mset_memory_growth\u001b[0m\u001b[0;34m(\u001b[0m\u001b[0mgpu\u001b[0m\u001b[0;34m[\u001b[0m\u001b[0;36m0\u001b[0m\u001b[0;34m]\u001b[0m\u001b[0;34m,\u001b[0m \u001b[0;32mTrue\u001b[0m\u001b[0;34m)\u001b[0m\u001b[0;34m\u001b[0m\u001b[0;34m\u001b[0m\u001b[0m\n\u001b[0m",
      "\u001b[0;31mIndexError\u001b[0m: list index out of range"
     ]
    }
   ],
   "source": [
    "gpu = tf.config.experimental.list_physical_devices('GPU')\n",
    "tf.config.experimental.set_memory_growth(gpu[0], True)"
   ]
  },
  {
   "cell_type": "code",
   "execution_count": null,
   "metadata": {
    "colab": {
     "base_uri": "https://localhost:8080/",
     "height": 72,
     "resources": {
      "http://localhost:8080/nbextensions/google.colab/files.js": {
       "data": "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",
       "headers": [
        [
         "content-type",
         "application/javascript"
        ]
       ],
       "ok": true,
       "status": 200,
       "status_text": ""
      }
     }
    },
    "colab_type": "code",
    "id": "lWHZTC5umFyj",
    "outputId": "928c65f0-a5fe-48bb-cd24-ad0f395afa94"
   },
   "outputs": [
    {
     "data": {
      "text/html": [
       "\n",
       "     <input type=\"file\" id=\"files-ee60b7e8-355b-4a3c-92ec-82a2c68804af\" name=\"files[]\" multiple disabled\n",
       "        style=\"border:none\" />\n",
       "     <output id=\"result-ee60b7e8-355b-4a3c-92ec-82a2c68804af\">\n",
       "      Upload widget is only available when the cell has been executed in the\n",
       "      current browser session. Please rerun this cell to enable.\n",
       "      </output>\n",
       "      <script src=\"/nbextensions/google.colab/files.js\"></script> "
      ],
      "text/plain": [
       "<IPython.core.display.HTML object>"
      ]
     },
     "metadata": {
      "tags": []
     },
     "output_type": "display_data"
    },
    {
     "name": "stdout",
     "output_type": "stream",
     "text": [
      "Saving Data.zip to Data.zip\n"
     ]
    }
   ],
   "source": [
    "from google.colab import files # to load image data\n",
    "uploaded = files.upload()"
   ]
  },
  {
   "cell_type": "code",
   "execution_count": null,
   "metadata": {
    "colab": {},
    "colab_type": "code",
    "id": "5GYYUg8kmNBB"
   },
   "outputs": [],
   "source": [
    "!unzip Data.zip # "
   ]
  },
  {
   "cell_type": "code",
   "execution_count": null,
   "metadata": {
    "colab": {},
    "colab_type": "code",
    "id": "ZkUCsgOtk3_i"
   },
   "outputs": [],
   "source": [
    "from keras.preprocessing.image import ImageDataGenerator"
   ]
  },
  {
   "cell_type": "code",
   "execution_count": null,
   "metadata": {
    "colab": {
     "base_uri": "https://localhost:8080/",
     "height": 68
    },
    "colab_type": "code",
    "id": "seWM47ZLHPLL",
    "outputId": "2ca26851-eaad-4751-c5c2-258fd5aed647"
   },
   "outputs": [
    {
     "name": "stdout",
     "output_type": "stream",
     "text": [
      "Found 10000 images belonging to 2 classes.\n",
      "Found 4000 images belonging to 2 classes.\n",
      "Found 1000 images belonging to 2 classes.\n"
     ]
    }
   ],
   "source": [
    "dataset_gen = ImageDataGenerator() # to convert images in a directory to a dataset \n",
    "train_set = dataset_gen.flow_from_directory('Data/train/',\n",
    "                                            class_mode='binary',\n",
    "                                            target_size=(150, 150), \n",
    "                                            batch_size=32)\n",
    "eval_set = dataset_gen.flow_from_directory('Data/eval/', class_mode='binary',\n",
    "                                           target_size=(150, 150), \n",
    "                                           batch_size=32)\n",
    "test_set = dataset_gen.flow_from_directory('Data/test/', class_mode='binary',\n",
    "                                           target_size=(150, 150), \n",
    "                                           batch_size=32)"
   ]
  },
  {
   "cell_type": "code",
   "execution_count": null,
   "metadata": {
    "colab": {
     "base_uri": "https://localhost:8080/",
     "height": 68
    },
    "colab_type": "code",
    "id": "m2ds4FN9MAYz",
    "outputId": "319982f4-9070-4aa5-d697-f58e6e9db04f"
   },
   "outputs": [
    {
     "name": "stdout",
     "output_type": "stream",
     "text": [
      "Train set includes: 313 batches\n",
      "Eval set includes: 125 batches\n",
      "Test set includes: 32 batches\n"
     ]
    }
   ],
   "source": [
    "print(\"Train set includes:\", len(train_set), \"batches\")\n",
    "print(\"Eval set includes:\", len(eval_set), \"batches\")\n",
    "print(\"Test set includes:\", len(test_set), \"batches\")"
   ]
  },
  {
   "cell_type": "code",
   "execution_count": null,
   "metadata": {
    "colab": {},
    "colab_type": "code",
    "id": "cy4dXWKYaCNs"
   },
   "outputs": [],
   "source": [
    "input_shape = train_set[0][0].shape[1:4] # shape of inputs for CNN model"
   ]
  },
  {
   "cell_type": "code",
   "execution_count": null,
   "metadata": {
    "colab": {},
    "colab_type": "code",
    "id": "9-qhDs8-MUhM"
   },
   "outputs": [],
   "source": [
    "# number of convolutional filters to use\n",
    "nb_filters = 32\n",
    "# convolution kernel size\n",
    "kernel_size = (3, 3)\n",
    "# size of pooling area for max pooling\n",
    "pool_size = (2, 2)"
   ]
  },
  {
   "cell_type": "code",
   "execution_count": null,
   "metadata": {
    "colab": {},
    "colab_type": "code",
    "id": "q4CNFoXIMYh6"
   },
   "outputs": [],
   "source": [
    "def define_model(): # CNN image classifier model as function\n",
    "\n",
    "  model = Sequential()\n",
    "\n",
    "  model.add(Conv2D(nb_filters, kernel_size,\n",
    "                 padding='valid',\n",
    "                 input_shape=input_shape))\n",
    "  model.add(Activation('relu'))\n",
    "  model.add(BatchNormalization(axis=1))\n",
    "  model.add(Conv2D(nb_filters, kernel_size,\n",
    "                 padding='valid'))\n",
    "  model.add(Activation('relu'))\n",
    "  model.add(BatchNormalization(axis=1))\n",
    "  model.add(MaxPooling2D(pool_size=pool_size))\n",
    "  #model.add(Dropout(0.25))\n",
    "\n",
    "  model.add(Conv2D(nb_filters, kernel_size,\n",
    "                 padding='valid'))\n",
    "  model.add(Activation('relu'))\n",
    "  model.add(BatchNormalization(axis=1))\n",
    "  model.add(Conv2D(nb_filters, kernel_size,\n",
    "                 padding='valid'))\n",
    "  model.add(Activation('relu'))\n",
    "  model.add(BatchNormalization(axis=1))\n",
    "  model.add(MaxPooling2D(pool_size=pool_size))\n",
    "  #model.add(Dropout(0.25))\n",
    "\n",
    "  model.add(Conv2D(nb_filters, kernel_size,\n",
    "                 padding='valid'))\n",
    "  model.add(Activation('relu'))\n",
    "  model.add(BatchNormalization(axis=1))\n",
    "  model.add(Conv2D(nb_filters, kernel_size,\n",
    "                 padding='valid'))\n",
    "  model.add(Activation('relu'))\n",
    "  model.add(BatchNormalization(axis=1))\n",
    "  model.add(MaxPooling2D(pool_size=pool_size))\n",
    "  #model.add(Dropout(0.25))\n",
    "\n",
    "  model.add(Conv2D(nb_filters, kernel_size,\n",
    "                 padding='valid'))\n",
    "  model.add(Activation('relu'))\n",
    "  model.add(BatchNormalization(axis=1))\n",
    "  model.add(Conv2D(nb_filters, kernel_size,\n",
    "                 padding='valid'))\n",
    "  model.add(Activation('relu'))\n",
    "  model.add(BatchNormalization(axis=1))\n",
    "  model.add(MaxPooling2D(pool_size=pool_size))\n",
    "  #model.add(Dropout(0.25))\n",
    "\n",
    "  model.add(Flatten())\n",
    "  model.add(Dense(units=128, activation='relu'))\n",
    "  model.add(Dropout(0.5))\n",
    "  model.add(Dense(1))\n",
    "  model.add(Activation('sigmoid'))\n",
    "\n",
    "  model.compile(loss='binary_crossentropy',\n",
    "              optimizer='adam',\n",
    "              metrics=['accuracy'])\n",
    "  return model\n",
    "#print(model.summary())\n"
   ]
  },
  {
   "cell_type": "code",
   "execution_count": null,
   "metadata": {
    "colab": {
     "base_uri": "https://localhost:8080/",
     "height": 1000
    },
    "colab_type": "code",
    "id": "Z2Pt_JSvETtS",
    "outputId": "5c00eca3-c5f0-422c-888e-fe018da9f9b3"
   },
   "outputs": [
    {
     "name": "stdout",
     "output_type": "stream",
     "text": [
      "Model: \"sequential_13\"\n",
      "_________________________________________________________________\n",
      "Layer (type)                 Output Shape              Param #   \n",
      "=================================================================\n",
      "conv2d_104 (Conv2D)          (None, 148, 148, 32)      896       \n",
      "_________________________________________________________________\n",
      "activation_51 (Activation)   (None, 148, 148, 32)      0         \n",
      "_________________________________________________________________\n",
      "batch_normalization_96 (Batc (None, 148, 148, 32)      592       \n",
      "_________________________________________________________________\n",
      "conv2d_105 (Conv2D)          (None, 146, 146, 32)      9248      \n",
      "_________________________________________________________________\n",
      "activation_52 (Activation)   (None, 146, 146, 32)      0         \n",
      "_________________________________________________________________\n",
      "batch_normalization_97 (Batc (None, 146, 146, 32)      584       \n",
      "_________________________________________________________________\n",
      "max_pooling2d_52 (MaxPooling (None, 73, 73, 32)        0         \n",
      "_________________________________________________________________\n",
      "conv2d_106 (Conv2D)          (None, 71, 71, 32)        9248      \n",
      "_________________________________________________________________\n",
      "activation_53 (Activation)   (None, 71, 71, 32)        0         \n",
      "_________________________________________________________________\n",
      "batch_normalization_98 (Batc (None, 71, 71, 32)        284       \n",
      "_________________________________________________________________\n",
      "conv2d_107 (Conv2D)          (None, 69, 69, 32)        9248      \n",
      "_________________________________________________________________\n",
      "activation_54 (Activation)   (None, 69, 69, 32)        0         \n",
      "_________________________________________________________________\n",
      "batch_normalization_99 (Batc (None, 69, 69, 32)        276       \n",
      "_________________________________________________________________\n",
      "max_pooling2d_53 (MaxPooling (None, 34, 34, 32)        0         \n",
      "_________________________________________________________________\n",
      "conv2d_108 (Conv2D)          (None, 32, 32, 32)        9248      \n",
      "_________________________________________________________________\n",
      "activation_55 (Activation)   (None, 32, 32, 32)        0         \n",
      "_________________________________________________________________\n",
      "batch_normalization_100 (Bat (None, 32, 32, 32)        128       \n",
      "_________________________________________________________________\n",
      "conv2d_109 (Conv2D)          (None, 30, 30, 32)        9248      \n",
      "_________________________________________________________________\n",
      "activation_56 (Activation)   (None, 30, 30, 32)        0         \n",
      "_________________________________________________________________\n",
      "batch_normalization_101 (Bat (None, 30, 30, 32)        120       \n",
      "_________________________________________________________________\n",
      "max_pooling2d_54 (MaxPooling (None, 15, 15, 32)        0         \n",
      "_________________________________________________________________\n",
      "conv2d_110 (Conv2D)          (None, 13, 13, 32)        9248      \n",
      "_________________________________________________________________\n",
      "activation_57 (Activation)   (None, 13, 13, 32)        0         \n",
      "_________________________________________________________________\n",
      "batch_normalization_102 (Bat (None, 13, 13, 32)        52        \n",
      "_________________________________________________________________\n",
      "conv2d_111 (Conv2D)          (None, 11, 11, 32)        9248      \n",
      "_________________________________________________________________\n",
      "activation_58 (Activation)   (None, 11, 11, 32)        0         \n",
      "_________________________________________________________________\n",
      "batch_normalization_103 (Bat (None, 11, 11, 32)        44        \n",
      "_________________________________________________________________\n",
      "max_pooling2d_55 (MaxPooling (None, 5, 5, 32)          0         \n",
      "_________________________________________________________________\n",
      "flatten_13 (Flatten)         (None, 800)               0         \n",
      "_________________________________________________________________\n",
      "dense_26 (Dense)             (None, 128)               102528    \n",
      "_________________________________________________________________\n",
      "dropout_33 (Dropout)         (None, 128)               0         \n",
      "_________________________________________________________________\n",
      "dense_27 (Dense)             (None, 1)                 129       \n",
      "_________________________________________________________________\n",
      "activation_59 (Activation)   (None, 1)                 0         \n",
      "=================================================================\n",
      "Total params: 170,369\n",
      "Trainable params: 169,329\n",
      "Non-trainable params: 1,040\n",
      "_________________________________________________________________\n",
      "None\n"
     ]
    }
   ],
   "source": [
    "model = define_model() \n",
    "print(model.summary())"
   ]
  },
  {
   "cell_type": "code",
   "execution_count": null,
   "metadata": {
    "colab": {
     "base_uri": "https://localhost:8080/",
     "height": 391
    },
    "colab_type": "code",
    "id": "lkL0ux3MMm3h",
    "outputId": "04a678b6-2804-4683-d8d4-55fe2398a6bb"
   },
   "outputs": [
    {
     "name": "stdout",
     "output_type": "stream",
     "text": [
      "Epoch 1/10\n",
      "313/313 [==============================] - 45s 143ms/step - loss: 0.6976 - accuracy: 0.5645 - val_loss: 0.6602 - val_accuracy: 0.5947\n",
      "Epoch 2/10\n",
      "313/313 [==============================] - 44s 142ms/step - loss: 0.6473 - accuracy: 0.6135 - val_loss: 0.6553 - val_accuracy: 0.6283\n",
      "Epoch 3/10\n",
      "313/313 [==============================] - 44s 140ms/step - loss: 0.6145 - accuracy: 0.6609 - val_loss: 0.5486 - val_accuracy: 0.7247\n",
      "Epoch 4/10\n",
      "313/313 [==============================] - 44s 140ms/step - loss: 0.5740 - accuracy: 0.7075 - val_loss: 0.5220 - val_accuracy: 0.7327\n",
      "Epoch 5/10\n",
      "313/313 [==============================] - 44s 140ms/step - loss: 0.5299 - accuracy: 0.7390 - val_loss: 0.5002 - val_accuracy: 0.7558\n",
      "Epoch 6/10\n",
      "313/313 [==============================] - 44s 141ms/step - loss: 0.5000 - accuracy: 0.7622 - val_loss: 0.4870 - val_accuracy: 0.7717\n",
      "Epoch 7/10\n",
      "313/313 [==============================] - 45s 143ms/step - loss: 0.4678 - accuracy: 0.7856 - val_loss: 0.4776 - val_accuracy: 0.7868\n",
      "Epoch 8/10\n",
      "313/313 [==============================] - 45s 144ms/step - loss: 0.4329 - accuracy: 0.8064 - val_loss: 0.5138 - val_accuracy: 0.7760\n",
      "Epoch 9/10\n",
      "313/313 [==============================] - 43s 139ms/step - loss: 0.4056 - accuracy: 0.8196 - val_loss: 0.4694 - val_accuracy: 0.7962\n",
      "Epoch 10/10\n",
      "313/313 [==============================] - 44s 141ms/step - loss: 0.3730 - accuracy: 0.8392 - val_loss: 0.4429 - val_accuracy: 0.7925\n",
      "CPU times: user 8min 34s, sys: 43.7 s, total: 9min 18s\n",
      "Wall time: 7min 24s\n"
     ]
    }
   ],
   "source": [
    "%%time\n",
    "\n",
    "epochs = 10 \n",
    "\n",
    "#fitting train data to CNN model\n",
    "history = model.fit_generator(train_set,steps_per_epoch=len(train_set), \n",
    "                              epochs=epochs, validation_data=eval_set, \n",
    "                              validation_steps=len(eval_set))"
   ]
  },
  {
   "cell_type": "code",
   "execution_count": null,
   "metadata": {
    "colab": {
     "base_uri": "https://localhost:8080/",
     "height": 458
    },
    "colab_type": "code",
    "id": "xESrLmNnM761",
    "outputId": "99c7e33f-8102-4cc9-f551-f66b11c5c787"
   },
   "outputs": [
    {
     "data": {
      "text/plain": [
       "Text(0.5, 1.0, 'accuracy')"
      ]
     },
     "execution_count": 92,
     "metadata": {
      "tags": []
     },
     "output_type": "execute_result"
    },
    {
     "data": {
      "image/png": "[encoded data removed]",
      "text/plain": [
       "<Figure size 360x216 with 1 Axes>"
      ]
     },
     "metadata": {
      "tags": []
     },
     "output_type": "display_data"
    },
    {
     "data": {
      "image/png": "[encoded data removed]",
      "text/plain": [
       "<Figure size 360x216 with 1 Axes>"
      ]
     },
     "metadata": {
      "tags": []
     },
     "output_type": "display_data"
    }
   ],
   "source": [
    "plt.figure(figsize=(5,3))\n",
    "plt.plot(history.epoch,history.history['loss'])\n",
    "plt.title('loss')\n",
    "\n",
    "plt.figure(figsize=(5,3))\n",
    "plt.plot(history.epoch,history.history['accuracy'])\n",
    "plt.title('accuracy')"
   ]
  },
  {
   "cell_type": "code",
   "execution_count": null,
   "metadata": {
    "colab": {
     "base_uri": "https://localhost:8080/",
     "height": 85
    },
    "colab_type": "code",
    "id": "pGZWz-r3PBPi",
    "outputId": "f695faaa-738d-4bb9-fd5b-43e8066f5a75"
   },
   "outputs": [
    {
     "name": "stdout",
     "output_type": "stream",
     "text": [
      "32/32 - 3s - loss: 0.4015 - accuracy: 0.7950\n",
      "accuracy: 79.50%\n",
      "CPU times: user 3.12 s, sys: 123 ms, total: 3.25 s\n",
      "Wall time: 3.01 s\n"
     ]
    }
   ],
   "source": [
    "%%time\n",
    "scores = model.evaluate(test_set, verbose=2)\n",
    "print(\"%s: %.2f%%\" % (model.metrics_names[1], scores[1]*100))"
   ]
  },
  {
   "cell_type": "markdown",
   "metadata": {
    "colab_type": "text",
    "id": "mKDH5JGOXWcP"
   },
   "source": [
    "**CNN Model with Image Augmentation**"
   ]
  },
  {
   "cell_type": "code",
   "execution_count": null,
   "metadata": {
    "colab": {},
    "colab_type": "code",
    "id": "J-v94OhMWUAK"
   },
   "outputs": [],
   "source": [
    "# The best results obtained with below features, the result whisch is 78%\n",
    "train_data_gen = ImageDataGenerator(shear_range=0.2,\n",
    "                  zoom_range=0.2,rescale=1.0/255, horizontal_flip= True) \n",
    "\n",
    "scaled_data_gen = ImageDataGenerator(rescale=1.0/255)"
   ]
  },
  {
   "cell_type": "code",
   "execution_count": null,
   "metadata": {
    "colab": {
     "base_uri": "https://localhost:8080/",
     "height": 68
    },
    "colab_type": "code",
    "id": "-FPHw-IG6dDd",
    "outputId": "305ce0fa-08f9-4379-9e8d-5eed7f4fa423"
   },
   "outputs": [
    {
     "name": "stdout",
     "output_type": "stream",
     "text": [
      "Found 10000 images belonging to 2 classes.\n",
      "Found 4000 images belonging to 2 classes.\n",
      "Found 1000 images belonging to 2 classes.\n"
     ]
    }
   ],
   "source": [
    "aug_train_set = train_data_gen.flow_from_directory('Data/train/', \n",
    "                                                   target_size=(150, 150),\n",
    "                                                   class_mode='binary', \n",
    "                                                   batch_size=32)\n",
    "aug_eval_set = scaled_data_gen.flow_from_directory('Data/eval/', \n",
    "                                                   target_size=(150, 150),\n",
    "                                                   class_mode='binary',\n",
    "                                                   batch_size=32)\n",
    "aug_test_set = scaled_data_gen.flow_from_directory('Data/test/', \n",
    "                                                   target_size=(150, 150),\n",
    "                                                   class_mode='binary', \n",
    "                                                   batch_size=32)"
   ]
  },
  {
   "cell_type": "code",
   "execution_count": null,
   "metadata": {
    "colab": {
     "base_uri": "https://localhost:8080/",
     "height": 34
    },
    "colab_type": "code",
    "id": "4IYyat2EcX2M",
    "outputId": "c12bb7ec-5f8d-4976-9bde-2038e92b4abb"
   },
   "outputs": [
    {
     "data": {
      "text/plain": [
       "(150, 150, 3)"
      ]
     },
     "execution_count": 108,
     "metadata": {
      "tags": []
     },
     "output_type": "execute_result"
    }
   ],
   "source": [
    "input_shape = aug_train_set[0][0].shape[1:4]\n",
    "input_shape"
   ]
  },
  {
   "cell_type": "code",
   "execution_count": null,
   "metadata": {
    "colab": {},
    "colab_type": "code",
    "id": "4g6ViHydFFgq"
   },
   "outputs": [],
   "source": [
    "model_aug = define_model()"
   ]
  },
  {
   "cell_type": "code",
   "execution_count": null,
   "metadata": {
    "colab": {
     "base_uri": "https://localhost:8080/",
     "height": 391
    },
    "colab_type": "code",
    "id": "1QfHnSEM7FpS",
    "outputId": "a61f300c-f889-4485-d9c8-870098e13154"
   },
   "outputs": [
    {
     "name": "stdout",
     "output_type": "stream",
     "text": [
      "Epoch 1/10\n",
      "313/313 [==============================] - 88s 280ms/step - loss: 0.7056 - accuracy: 0.5228 - val_loss: 0.6868 - val_accuracy: 0.5592\n",
      "Epoch 2/10\n",
      "313/313 [==============================] - 87s 279ms/step - loss: 0.6895 - accuracy: 0.5248 - val_loss: 0.6792 - val_accuracy: 0.5727\n",
      "Epoch 3/10\n",
      "313/313 [==============================] - 87s 278ms/step - loss: 0.6849 - accuracy: 0.5484 - val_loss: 0.6746 - val_accuracy: 0.5863\n",
      "Epoch 4/10\n",
      "313/313 [==============================] - 88s 281ms/step - loss: 0.6731 - accuracy: 0.5793 - val_loss: 0.6522 - val_accuracy: 0.6298\n",
      "Epoch 5/10\n",
      "313/313 [==============================] - 89s 285ms/step - loss: 0.6526 - accuracy: 0.6240 - val_loss: 0.7032 - val_accuracy: 0.5792\n",
      "Epoch 6/10\n",
      "313/313 [==============================] - 88s 282ms/step - loss: 0.6295 - accuracy: 0.6580 - val_loss: 0.6116 - val_accuracy: 0.6680\n",
      "Epoch 7/10\n",
      "313/313 [==============================] - 89s 284ms/step - loss: 0.5971 - accuracy: 0.6825 - val_loss: 0.5504 - val_accuracy: 0.7232\n",
      "Epoch 8/10\n",
      "313/313 [==============================] - 90s 287ms/step - loss: 0.5590 - accuracy: 0.7251 - val_loss: 0.6733 - val_accuracy: 0.6628\n",
      "Epoch 9/10\n",
      "313/313 [==============================] - 90s 289ms/step - loss: 0.5066 - accuracy: 0.7662 - val_loss: 0.6734 - val_accuracy: 0.6522\n",
      "Epoch 10/10\n",
      "313/313 [==============================] - 90s 288ms/step - loss: 0.4805 - accuracy: 0.7787 - val_loss: 0.4372 - val_accuracy: 0.7940\n",
      "CPU times: user 16min 30s, sys: 1min 2s, total: 17min 33s\n",
      "Wall time: 14min 51s\n"
     ]
    }
   ],
   "source": [
    "%%time\n",
    "\n",
    "epochs = 10 \n",
    "\n",
    "history = model_aug.fit_generator(aug_train_set,\n",
    "                                  steps_per_epoch=len(aug_train_set), \n",
    "                                  epochs=epochs, validation_data=aug_eval_set, \n",
    "                                  validation_steps=len(aug_eval_set))"
   ]
  },
  {
   "cell_type": "code",
   "execution_count": null,
   "metadata": {
    "colab": {
     "base_uri": "https://localhost:8080/",
     "height": 458
    },
    "colab_type": "code",
    "id": "orSkmyec7UaR",
    "outputId": "3f3116fd-6222-4bb5-deaf-39289442415d"
   },
   "outputs": [
    {
     "data": {
      "text/plain": [
       "Text(0.5, 1.0, 'accuracy')"
      ]
     },
     "execution_count": 111,
     "metadata": {
      "tags": []
     },
     "output_type": "execute_result"
    },
    {
     "data": {
      "image/png": "[encoded data removed]",
      "text/plain": [
       "<Figure size 360x216 with 1 Axes>"
      ]
     },
     "metadata": {
      "tags": []
     },
     "output_type": "display_data"
    },
    {
     "data": {
      "image/png": "[encoded data removed]",
      "text/plain": [
       "<Figure size 360x216 with 1 Axes>"
      ]
     },
     "metadata": {
      "tags": []
     },
     "output_type": "display_data"
    }
   ],
   "source": [
    "plt.figure(figsize=(5,3))\n",
    "plt.plot(history.epoch,history.history['loss'])\n",
    "plt.title('loss')\n",
    "\n",
    "plt.figure(figsize=(5,3))\n",
    "plt.plot(history.epoch,history.history['accuracy'])\n",
    "plt.title('accuracy')"
   ]
  },
  {
   "cell_type": "code",
   "execution_count": null,
   "metadata": {
    "colab": {
     "base_uri": "https://localhost:8080/",
     "height": 85
    },
    "colab_type": "code",
    "id": "Yits7NrjCJWb",
    "outputId": "a286e2e7-23a9-4148-d1f1-2363bea70ec8"
   },
   "outputs": [
    {
     "name": "stdout",
     "output_type": "stream",
     "text": [
      "32/32 [==============================] - 3s 89ms/step - loss: 0.4426 - accuracy: 0.7870\n",
      "accuracy: 78.70%\n",
      "CPU times: user 3.18 s, sys: 102 ms, total: 3.28 s\n",
      "Wall time: 3.08 s\n"
     ]
    }
   ],
   "source": [
    "%%time\n",
    "scores = model_aug.evaluate(aug_test_set)\n",
    "print(\"%s: %.2f%%\" % (model.metrics_names[1], scores[1]*100))"
   ]
  },
  {
   "cell_type": "markdown",
   "metadata": {
    "colab_type": "text",
    "id": "BicE5Rs7Ji3f"
   },
   "source": [
    "## Evaluation of base model and augmented version model\n",
    "\n",
    "**The test accuracy of the base-model is 79%, on the other hand the test accuracy of augmented version is 78%.** Augmentation is generally done to obtain better accuracy results, but it seems it did not work in that way in our case. Maybe with different image augmentation methods, better results can be obtained. In order to get mentioned better results, more trials should be done.\n",
    "\n",
    "On the other side, the CNN model worked well and almost 80% accuracy attained with both datasets. To improve accuracy, dropout layers were canceled due to fact that overftting was not the trouble. \n",
    "\n",
    "The whole task is done in Google Colab because my computer has no enough capabilities to carry out a high-level CPU needed DL training algorithm."
   ]
  }
 ],
 "metadata": {
  "accelerator": "GPU",
  "colab": {
   "name": "CNN_cat_dog_dataset.ipynb",
   "provenance": []
  },
  "kernelspec": {
   "display_name": "Python 3",
   "language": "python",
   "name": "python3"
  },
  "language_info": {
   "codemirror_mode": {
    "name": "ipython",
    "version": 3
   },
   "file_extension": ".py",
   "mimetype": "text/x-python",
   "name": "python",
   "nbconvert_exporter": "python",
   "pygments_lexer": "ipython3",
   "version": "3.7.5"
  }
 },
 "nbformat": 4,
 "nbformat_minor": 1
}
