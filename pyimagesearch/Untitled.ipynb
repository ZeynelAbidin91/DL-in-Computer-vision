{
 "cells": [
  {
   "cell_type": "code",
   "execution_count": 15,
   "id": "virgin-venture",
   "metadata": {},
   "outputs": [],
   "source": [
    "import numpy as np\n",
    "from scipy.spatial import distance as dists"
   ]
  },
  {
   "cell_type": "code",
   "execution_count": 2,
   "id": "olive-april",
   "metadata": {},
   "outputs": [],
   "source": [
    "A = [0.16, 0.04, 0.12, 0.03, 0.14, 0.17, 0.06, 0.27]\n",
    "B = [0.08, 0.12, 0.07, 0.13, 0.04, 0.22, 0.27, 0.08]"
   ]
  },
  {
   "cell_type": "code",
   "execution_count": 3,
   "id": "disturbed-clarity",
   "metadata": {},
   "outputs": [
    {
     "ename": "TypeError",
     "evalue": "unsupported operand type(s) for -: 'list' and 'list'",
     "output_type": "error",
     "traceback": [
      "\u001b[1;31m---------------------------------------------------------------------------\u001b[0m",
      "\u001b[1;31mTypeError\u001b[0m                                 Traceback (most recent call last)",
      "\u001b[1;32m<ipython-input-3-cb6a01d229b4>\u001b[0m in \u001b[0;36m<module>\u001b[1;34m\u001b[0m\n\u001b[1;32m----> 1\u001b[1;33m \u001b[0mA\u001b[0m \u001b[1;33m-\u001b[0m \u001b[0mB\u001b[0m\u001b[1;33m\u001b[0m\u001b[1;33m\u001b[0m\u001b[0m\n\u001b[0m",
      "\u001b[1;31mTypeError\u001b[0m: unsupported operand type(s) for -: 'list' and 'list'"
     ]
    }
   ],
   "source": [
    "A - B"
   ]
  },
  {
   "cell_type": "code",
   "execution_count": 11,
   "id": "configured-metropolitan",
   "metadata": {},
   "outputs": [
    {
     "data": {
      "text/plain": [
       "0.22053479707427076"
      ]
     },
     "execution_count": 11,
     "metadata": {},
     "output_type": "execute_result"
    }
   ],
   "source": [
    "p1 = [i**2 for i in [i - j for i, j in zip(A, B)]] \n",
    "p2 = [i+j for i, j in zip(A, B)]\n",
    "np.sum([i / j for i, j in zip(p1, p2)]) / 2\n"
   ]
  },
  {
   "cell_type": "code",
   "execution_count": 18,
   "id": "native-blood",
   "metadata": {},
   "outputs": [],
   "source": [
    "N = [0.81, 0.84, 0.31, 0.13, 0.96, 0.48, 0.58, 0.65]\n",
    "M = [0.82, 0.31, 0.50, 0.38, 0.74, 0.59, 0.62, 0.94]"
   ]
  },
  {
   "cell_type": "code",
   "execution_count": 19,
   "id": "general-foster",
   "metadata": {},
   "outputs": [
    {
     "data": {
      "text/plain": [
       "0.07829936455471354"
      ]
     },
     "execution_count": 19,
     "metadata": {},
     "output_type": "execute_result"
    }
   ],
   "source": [
    "dists.cosine(N, M)"
   ]
  },
  {
   "cell_type": "code",
   "execution_count": null,
   "id": "auburn-pressing",
   "metadata": {},
   "outputs": [],
   "source": []
  },
  {
   "cell_type": "code",
   "execution_count": null,
   "id": "technological-shopper",
   "metadata": {},
   "outputs": [],
   "source": []
  },
  {
   "cell_type": "code",
   "execution_count": null,
   "id": "matched-coupon",
   "metadata": {},
   "outputs": [],
   "source": []
  }
 ],
 "metadata": {
  "kernelspec": {
   "display_name": "Python 3.7 (tensorflow)",
   "language": "python",
   "name": "tensorflow"
  },
  "language_info": {
   "codemirror_mode": {
    "name": "ipython",
    "version": 3
   },
   "file_extension": ".py",
   "mimetype": "text/x-python",
   "name": "python",
   "nbconvert_exporter": "python",
   "pygments_lexer": "ipython3",
   "version": "3.7.10"
  }
 },
 "nbformat": 4,
 "nbformat_minor": 5
}
