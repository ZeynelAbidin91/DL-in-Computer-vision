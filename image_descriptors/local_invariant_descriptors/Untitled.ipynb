{
 "cells": [
  {
   "cell_type": "code",
   "execution_count": 2,
   "id": "objective-influence",
   "metadata": {},
   "outputs": [],
   "source": [
    "import cv2\n",
    "import numpy as np\n",
    "from PIL import Image"
   ]
  },
  {
   "cell_type": "code",
   "execution_count": 3,
   "id": "hybrid-convertible",
   "metadata": {},
   "outputs": [],
   "source": [
    "array = np.array([[3,0,1,2,7,4],[1,5,8,9,3,1],[2,7,2,5,1,3],[0,1,3,1,7,8],[4,2,1,6,2,8],[2,4,5,2,3,9]], dtype=\"uint8\")"
   ]
  },
  {
   "cell_type": "code",
   "execution_count": 5,
   "id": "sexual-panama",
   "metadata": {},
   "outputs": [],
   "source": [
    "kernel = np.array([[1,0,-1], [1,0,-1], [1,0,-1]])"
   ]
  },
  {
   "cell_type": "code",
   "execution_count": 9,
   "id": "forbidden-brunei",
   "metadata": {},
   "outputs": [
    {
     "data": {
      "text/plain": [
       "array([[254,   3,   8,   7, 252, 248],\n",
       "       [  6,   5,   4,   0, 248, 253],\n",
       "       [ 10,  10,   2, 254, 253,   1],\n",
       "       [  4,   0,   2,   4,   7,   9],\n",
       "       [  1,   3,   2,   3,  16,  13],\n",
       "       [  2,   3,   0, 253,  16,  18]], dtype=uint8)"
      ]
     },
     "execution_count": 9,
     "metadata": {},
     "output_type": "execute_result"
    }
   ],
   "source": [
    "from scipy.ndimage import convolve\n",
    "convolve(array, kernel)"
   ]
  },
  {
   "cell_type": "code",
   "execution_count": 10,
   "id": "binary-brother",
   "metadata": {},
   "outputs": [
    {
     "data": {
      "text/plain": [
       "array([[3, 0, 1, 2, 7, 4],\n",
       "       [1, 5, 8, 9, 3, 1],\n",
       "       [2, 7, 2, 5, 1, 3],\n",
       "       [0, 1, 3, 1, 7, 8],\n",
       "       [4, 2, 1, 6, 2, 8],\n",
       "       [2, 4, 5, 2, 3, 9]], dtype=uint8)"
      ]
     },
     "execution_count": 10,
     "metadata": {},
     "output_type": "execute_result"
    }
   ],
   "source": [
    "array"
   ]
  },
  {
   "cell_type": "code",
   "execution_count": null,
   "id": "unlike-customer",
   "metadata": {},
   "outputs": [],
   "source": []
  },
  {
   "cell_type": "code",
   "execution_count": null,
   "id": "creative-novelty",
   "metadata": {},
   "outputs": [],
   "source": []
  }
 ],
 "metadata": {
  "kernelspec": {
   "display_name": "Python 3.7 (tensorflow)",
   "language": "python",
   "name": "tensorflow"
  },
  "language_info": {
   "codemirror_mode": {
    "name": "ipython",
    "version": 3
   },
   "file_extension": ".py",
   "mimetype": "text/x-python",
   "name": "python",
   "nbconvert_exporter": "python",
   "pygments_lexer": "ipython3",
   "version": "3.7.10"
  }
 },
 "nbformat": 4,
 "nbformat_minor": 5
}
